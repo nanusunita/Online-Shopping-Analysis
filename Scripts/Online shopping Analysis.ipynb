{
 "cells": [
  {
   "cell_type": "markdown",
   "id": "232fb63a",
   "metadata": {},
   "source": [
    "# Import Data and Libraries¶"
   ]
  },
  {
   "cell_type": "code",
   "execution_count": 1,
   "id": "f074405a",
   "metadata": {},
   "outputs": [],
   "source": [
    "# Import libraries\n",
    "import pandas as pd\n",
    "import numpy as np\n",
    "import os\n",
    "import matplotlib.pyplot as plt\n",
    "import seaborn as sns\n",
    "import scipy"
   ]
  },
  {
   "cell_type": "code",
   "execution_count": 2,
   "id": "5d13c12d",
   "metadata": {},
   "outputs": [],
   "source": [
    "# Project folder path\n",
    "path = r'C:\\Users\\BhuwanDhakal\\Sunita\\Projects\\2 Data Immersion\\Advanced analytics $ Dashboard Desigh\\Online Shopping Analysis'"
   ]
  },
  {
   "cell_type": "code",
   "execution_count": 3,
   "id": "d9fb3b97",
   "metadata": {},
   "outputs": [
    {
     "data": {
      "text/plain": [
       "'C:\\\\Users\\\\BhuwanDhakal\\\\Sunita\\\\Projects\\\\2 Data Immersion\\\\Advanced analytics $ Dashboard Desigh\\\\Online Shopping Analysis'"
      ]
     },
     "execution_count": 3,
     "metadata": {},
     "output_type": "execute_result"
    }
   ],
   "source": [
    "path"
   ]
  },
  {
   "cell_type": "code",
   "execution_count": 4,
   "id": "b9f9061d",
   "metadata": {},
   "outputs": [],
   "source": [
    "# Importing Online Shopping Dataframe \n",
    "df = pd.read_excel(os.path.join(path, 'Data', 'Original Data', 'file.xlsx'))"
   ]
  },
  {
   "cell_type": "code",
   "execution_count": 5,
   "id": "fecd196a",
   "metadata": {},
   "outputs": [
    {
     "data": {
      "text/html": [
       "<div>\n",
       "<style scoped>\n",
       "    .dataframe tbody tr th:only-of-type {\n",
       "        vertical-align: middle;\n",
       "    }\n",
       "\n",
       "    .dataframe tbody tr th {\n",
       "        vertical-align: top;\n",
       "    }\n",
       "\n",
       "    .dataframe thead th {\n",
       "        text-align: right;\n",
       "    }\n",
       "</style>\n",
       "<table border=\"1\" class=\"dataframe\">\n",
       "  <thead>\n",
       "    <tr style=\"text-align: right;\">\n",
       "      <th></th>\n",
       "      <th>Unnamed: 0</th>\n",
       "      <th>CustomerID</th>\n",
       "      <th>Gender</th>\n",
       "      <th>Location</th>\n",
       "      <th>Tenure_Months</th>\n",
       "      <th>Transaction_ID</th>\n",
       "      <th>Transaction_Date</th>\n",
       "      <th>Product_SKU</th>\n",
       "      <th>Product_Description</th>\n",
       "      <th>Product_Category</th>\n",
       "      <th>...</th>\n",
       "      <th>Avg_Price</th>\n",
       "      <th>Delivery_Charges</th>\n",
       "      <th>Coupon_Status</th>\n",
       "      <th>GST</th>\n",
       "      <th>Date</th>\n",
       "      <th>Offline_Spend</th>\n",
       "      <th>Online_Spend</th>\n",
       "      <th>Month</th>\n",
       "      <th>Coupon_Code</th>\n",
       "      <th>Discount_pct</th>\n",
       "    </tr>\n",
       "  </thead>\n",
       "  <tbody>\n",
       "    <tr>\n",
       "      <th>0</th>\n",
       "      <td>0</td>\n",
       "      <td>17850.0</td>\n",
       "      <td>M</td>\n",
       "      <td>Chicago</td>\n",
       "      <td>12.0</td>\n",
       "      <td>16679.0</td>\n",
       "      <td>2019-01-01</td>\n",
       "      <td>GGOENEBJ079499</td>\n",
       "      <td>Nest Learning Thermostat 3rd Gen-USA - Stainle...</td>\n",
       "      <td>Nest-USA</td>\n",
       "      <td>...</td>\n",
       "      <td>153.71</td>\n",
       "      <td>6.5</td>\n",
       "      <td>Used</td>\n",
       "      <td>0.1</td>\n",
       "      <td>1/1/2019</td>\n",
       "      <td>4500.0</td>\n",
       "      <td>2424.5</td>\n",
       "      <td>1</td>\n",
       "      <td>ELEC10</td>\n",
       "      <td>10.0</td>\n",
       "    </tr>\n",
       "    <tr>\n",
       "      <th>1</th>\n",
       "      <td>1</td>\n",
       "      <td>17850.0</td>\n",
       "      <td>M</td>\n",
       "      <td>Chicago</td>\n",
       "      <td>12.0</td>\n",
       "      <td>16680.0</td>\n",
       "      <td>2019-01-01</td>\n",
       "      <td>GGOENEBJ079499</td>\n",
       "      <td>Nest Learning Thermostat 3rd Gen-USA - Stainle...</td>\n",
       "      <td>Nest-USA</td>\n",
       "      <td>...</td>\n",
       "      <td>153.71</td>\n",
       "      <td>6.5</td>\n",
       "      <td>Used</td>\n",
       "      <td>0.1</td>\n",
       "      <td>1/1/2019</td>\n",
       "      <td>4500.0</td>\n",
       "      <td>2424.5</td>\n",
       "      <td>1</td>\n",
       "      <td>ELEC10</td>\n",
       "      <td>10.0</td>\n",
       "    </tr>\n",
       "    <tr>\n",
       "      <th>2</th>\n",
       "      <td>2</td>\n",
       "      <td>17850.0</td>\n",
       "      <td>M</td>\n",
       "      <td>Chicago</td>\n",
       "      <td>12.0</td>\n",
       "      <td>16696.0</td>\n",
       "      <td>2019-01-01</td>\n",
       "      <td>GGOENEBQ078999</td>\n",
       "      <td>Nest Cam Outdoor Security Camera - USA</td>\n",
       "      <td>Nest-USA</td>\n",
       "      <td>...</td>\n",
       "      <td>122.77</td>\n",
       "      <td>6.5</td>\n",
       "      <td>Not Used</td>\n",
       "      <td>0.1</td>\n",
       "      <td>1/1/2019</td>\n",
       "      <td>4500.0</td>\n",
       "      <td>2424.5</td>\n",
       "      <td>1</td>\n",
       "      <td>ELEC10</td>\n",
       "      <td>10.0</td>\n",
       "    </tr>\n",
       "    <tr>\n",
       "      <th>3</th>\n",
       "      <td>3</td>\n",
       "      <td>17850.0</td>\n",
       "      <td>M</td>\n",
       "      <td>Chicago</td>\n",
       "      <td>12.0</td>\n",
       "      <td>16699.0</td>\n",
       "      <td>2019-01-01</td>\n",
       "      <td>GGOENEBQ079099</td>\n",
       "      <td>Nest Protect Smoke + CO White Battery Alarm-USA</td>\n",
       "      <td>Nest-USA</td>\n",
       "      <td>...</td>\n",
       "      <td>81.50</td>\n",
       "      <td>6.5</td>\n",
       "      <td>Clicked</td>\n",
       "      <td>0.1</td>\n",
       "      <td>1/1/2019</td>\n",
       "      <td>4500.0</td>\n",
       "      <td>2424.5</td>\n",
       "      <td>1</td>\n",
       "      <td>ELEC10</td>\n",
       "      <td>10.0</td>\n",
       "    </tr>\n",
       "    <tr>\n",
       "      <th>4</th>\n",
       "      <td>4</td>\n",
       "      <td>17850.0</td>\n",
       "      <td>M</td>\n",
       "      <td>Chicago</td>\n",
       "      <td>12.0</td>\n",
       "      <td>16700.0</td>\n",
       "      <td>2019-01-01</td>\n",
       "      <td>GGOENEBJ079499</td>\n",
       "      <td>Nest Learning Thermostat 3rd Gen-USA - Stainle...</td>\n",
       "      <td>Nest-USA</td>\n",
       "      <td>...</td>\n",
       "      <td>153.71</td>\n",
       "      <td>6.5</td>\n",
       "      <td>Clicked</td>\n",
       "      <td>0.1</td>\n",
       "      <td>1/1/2019</td>\n",
       "      <td>4500.0</td>\n",
       "      <td>2424.5</td>\n",
       "      <td>1</td>\n",
       "      <td>ELEC10</td>\n",
       "      <td>10.0</td>\n",
       "    </tr>\n",
       "  </tbody>\n",
       "</table>\n",
       "<p>5 rows × 21 columns</p>\n",
       "</div>"
      ],
      "text/plain": [
       "   Unnamed: 0  CustomerID Gender Location  Tenure_Months  Transaction_ID  \\\n",
       "0           0     17850.0      M  Chicago           12.0         16679.0   \n",
       "1           1     17850.0      M  Chicago           12.0         16680.0   \n",
       "2           2     17850.0      M  Chicago           12.0         16696.0   \n",
       "3           3     17850.0      M  Chicago           12.0         16699.0   \n",
       "4           4     17850.0      M  Chicago           12.0         16700.0   \n",
       "\n",
       "  Transaction_Date     Product_SKU  \\\n",
       "0       2019-01-01  GGOENEBJ079499   \n",
       "1       2019-01-01  GGOENEBJ079499   \n",
       "2       2019-01-01  GGOENEBQ078999   \n",
       "3       2019-01-01  GGOENEBQ079099   \n",
       "4       2019-01-01  GGOENEBJ079499   \n",
       "\n",
       "                                 Product_Description Product_Category  ...  \\\n",
       "0  Nest Learning Thermostat 3rd Gen-USA - Stainle...         Nest-USA  ...   \n",
       "1  Nest Learning Thermostat 3rd Gen-USA - Stainle...         Nest-USA  ...   \n",
       "2             Nest Cam Outdoor Security Camera - USA         Nest-USA  ...   \n",
       "3    Nest Protect Smoke + CO White Battery Alarm-USA         Nest-USA  ...   \n",
       "4  Nest Learning Thermostat 3rd Gen-USA - Stainle...         Nest-USA  ...   \n",
       "\n",
       "   Avg_Price  Delivery_Charges  Coupon_Status  GST      Date Offline_Spend  \\\n",
       "0     153.71               6.5           Used  0.1  1/1/2019        4500.0   \n",
       "1     153.71               6.5           Used  0.1  1/1/2019        4500.0   \n",
       "2     122.77               6.5       Not Used  0.1  1/1/2019        4500.0   \n",
       "3      81.50               6.5        Clicked  0.1  1/1/2019        4500.0   \n",
       "4     153.71               6.5        Clicked  0.1  1/1/2019        4500.0   \n",
       "\n",
       "   Online_Spend  Month  Coupon_Code Discount_pct  \n",
       "0        2424.5      1       ELEC10         10.0  \n",
       "1        2424.5      1       ELEC10         10.0  \n",
       "2        2424.5      1       ELEC10         10.0  \n",
       "3        2424.5      1       ELEC10         10.0  \n",
       "4        2424.5      1       ELEC10         10.0  \n",
       "\n",
       "[5 rows x 21 columns]"
      ]
     },
     "execution_count": 5,
     "metadata": {},
     "output_type": "execute_result"
    }
   ],
   "source": [
    "# Checking the Dataframe\n",
    "df.head()"
   ]
  },
  {
   "cell_type": "code",
   "execution_count": 6,
   "id": "bef295f8",
   "metadata": {},
   "outputs": [
    {
     "data": {
      "text/html": [
       "<div>\n",
       "<style scoped>\n",
       "    .dataframe tbody tr th:only-of-type {\n",
       "        vertical-align: middle;\n",
       "    }\n",
       "\n",
       "    .dataframe tbody tr th {\n",
       "        vertical-align: top;\n",
       "    }\n",
       "\n",
       "    .dataframe thead th {\n",
       "        text-align: right;\n",
       "    }\n",
       "</style>\n",
       "<table border=\"1\" class=\"dataframe\">\n",
       "  <thead>\n",
       "    <tr style=\"text-align: right;\">\n",
       "      <th></th>\n",
       "      <th>Unnamed: 0</th>\n",
       "      <th>CustomerID</th>\n",
       "      <th>Tenure_Months</th>\n",
       "      <th>Transaction_ID</th>\n",
       "      <th>Quantity</th>\n",
       "      <th>Avg_Price</th>\n",
       "      <th>Delivery_Charges</th>\n",
       "      <th>GST</th>\n",
       "      <th>Offline_Spend</th>\n",
       "      <th>Online_Spend</th>\n",
       "      <th>Month</th>\n",
       "      <th>Discount_pct</th>\n",
       "    </tr>\n",
       "  </thead>\n",
       "  <tbody>\n",
       "    <tr>\n",
       "      <th>count</th>\n",
       "      <td>52955.000000</td>\n",
       "      <td>52924.00000</td>\n",
       "      <td>52924.000000</td>\n",
       "      <td>52924.000000</td>\n",
       "      <td>52924.000000</td>\n",
       "      <td>52924.000000</td>\n",
       "      <td>52924.000000</td>\n",
       "      <td>52924.000000</td>\n",
       "      <td>52924.000000</td>\n",
       "      <td>52924.000000</td>\n",
       "      <td>52955.000000</td>\n",
       "      <td>52555.000000</td>\n",
       "    </tr>\n",
       "    <tr>\n",
       "      <th>mean</th>\n",
       "      <td>26477.000000</td>\n",
       "      <td>15346.70981</td>\n",
       "      <td>26.127995</td>\n",
       "      <td>32409.825675</td>\n",
       "      <td>4.497638</td>\n",
       "      <td>52.237646</td>\n",
       "      <td>10.517630</td>\n",
       "      <td>0.137462</td>\n",
       "      <td>2830.914141</td>\n",
       "      <td>1893.109119</td>\n",
       "      <td>6.652800</td>\n",
       "      <td>19.953382</td>\n",
       "    </tr>\n",
       "    <tr>\n",
       "      <th>std</th>\n",
       "      <td>15286.936089</td>\n",
       "      <td>1766.55602</td>\n",
       "      <td>13.478285</td>\n",
       "      <td>8648.668977</td>\n",
       "      <td>20.104711</td>\n",
       "      <td>64.006882</td>\n",
       "      <td>19.475613</td>\n",
       "      <td>0.045825</td>\n",
       "      <td>936.154247</td>\n",
       "      <td>807.014092</td>\n",
       "      <td>3.333664</td>\n",
       "      <td>8.127108</td>\n",
       "    </tr>\n",
       "    <tr>\n",
       "      <th>min</th>\n",
       "      <td>0.000000</td>\n",
       "      <td>12346.00000</td>\n",
       "      <td>2.000000</td>\n",
       "      <td>16679.000000</td>\n",
       "      <td>1.000000</td>\n",
       "      <td>0.390000</td>\n",
       "      <td>0.000000</td>\n",
       "      <td>0.050000</td>\n",
       "      <td>500.000000</td>\n",
       "      <td>320.250000</td>\n",
       "      <td>1.000000</td>\n",
       "      <td>10.000000</td>\n",
       "    </tr>\n",
       "    <tr>\n",
       "      <th>25%</th>\n",
       "      <td>13238.500000</td>\n",
       "      <td>13869.00000</td>\n",
       "      <td>15.000000</td>\n",
       "      <td>25384.000000</td>\n",
       "      <td>1.000000</td>\n",
       "      <td>5.700000</td>\n",
       "      <td>6.000000</td>\n",
       "      <td>0.100000</td>\n",
       "      <td>2500.000000</td>\n",
       "      <td>1252.630000</td>\n",
       "      <td>4.000000</td>\n",
       "      <td>10.000000</td>\n",
       "    </tr>\n",
       "    <tr>\n",
       "      <th>50%</th>\n",
       "      <td>26477.000000</td>\n",
       "      <td>15311.00000</td>\n",
       "      <td>27.000000</td>\n",
       "      <td>32625.500000</td>\n",
       "      <td>1.000000</td>\n",
       "      <td>16.990000</td>\n",
       "      <td>6.000000</td>\n",
       "      <td>0.180000</td>\n",
       "      <td>3000.000000</td>\n",
       "      <td>1837.870000</td>\n",
       "      <td>7.000000</td>\n",
       "      <td>20.000000</td>\n",
       "    </tr>\n",
       "    <tr>\n",
       "      <th>75%</th>\n",
       "      <td>39715.500000</td>\n",
       "      <td>16996.25000</td>\n",
       "      <td>37.000000</td>\n",
       "      <td>39126.250000</td>\n",
       "      <td>2.000000</td>\n",
       "      <td>102.130000</td>\n",
       "      <td>6.500000</td>\n",
       "      <td>0.180000</td>\n",
       "      <td>3500.000000</td>\n",
       "      <td>2425.350000</td>\n",
       "      <td>9.000000</td>\n",
       "      <td>30.000000</td>\n",
       "    </tr>\n",
       "    <tr>\n",
       "      <th>max</th>\n",
       "      <td>52954.000000</td>\n",
       "      <td>18283.00000</td>\n",
       "      <td>50.000000</td>\n",
       "      <td>48497.000000</td>\n",
       "      <td>900.000000</td>\n",
       "      <td>355.740000</td>\n",
       "      <td>521.360000</td>\n",
       "      <td>0.180000</td>\n",
       "      <td>5000.000000</td>\n",
       "      <td>4556.930000</td>\n",
       "      <td>12.000000</td>\n",
       "      <td>30.000000</td>\n",
       "    </tr>\n",
       "  </tbody>\n",
       "</table>\n",
       "</div>"
      ],
      "text/plain": [
       "         Unnamed: 0   CustomerID  Tenure_Months  Transaction_ID      Quantity  \\\n",
       "count  52955.000000  52924.00000   52924.000000    52924.000000  52924.000000   \n",
       "mean   26477.000000  15346.70981      26.127995    32409.825675      4.497638   \n",
       "std    15286.936089   1766.55602      13.478285     8648.668977     20.104711   \n",
       "min        0.000000  12346.00000       2.000000    16679.000000      1.000000   \n",
       "25%    13238.500000  13869.00000      15.000000    25384.000000      1.000000   \n",
       "50%    26477.000000  15311.00000      27.000000    32625.500000      1.000000   \n",
       "75%    39715.500000  16996.25000      37.000000    39126.250000      2.000000   \n",
       "max    52954.000000  18283.00000      50.000000    48497.000000    900.000000   \n",
       "\n",
       "          Avg_Price  Delivery_Charges           GST  Offline_Spend  \\\n",
       "count  52924.000000      52924.000000  52924.000000   52924.000000   \n",
       "mean      52.237646         10.517630      0.137462    2830.914141   \n",
       "std       64.006882         19.475613      0.045825     936.154247   \n",
       "min        0.390000          0.000000      0.050000     500.000000   \n",
       "25%        5.700000          6.000000      0.100000    2500.000000   \n",
       "50%       16.990000          6.000000      0.180000    3000.000000   \n",
       "75%      102.130000          6.500000      0.180000    3500.000000   \n",
       "max      355.740000        521.360000      0.180000    5000.000000   \n",
       "\n",
       "       Online_Spend         Month  Discount_pct  \n",
       "count  52924.000000  52955.000000  52555.000000  \n",
       "mean    1893.109119      6.652800     19.953382  \n",
       "std      807.014092      3.333664      8.127108  \n",
       "min      320.250000      1.000000     10.000000  \n",
       "25%     1252.630000      4.000000     10.000000  \n",
       "50%     1837.870000      7.000000     20.000000  \n",
       "75%     2425.350000      9.000000     30.000000  \n",
       "max     4556.930000     12.000000     30.000000  "
      ]
     },
     "execution_count": 6,
     "metadata": {},
     "output_type": "execute_result"
    }
   ],
   "source": [
    " df.describe()"
   ]
  },
  {
   "cell_type": "code",
   "execution_count": 7,
   "id": "9fc8e770",
   "metadata": {},
   "outputs": [],
   "source": [
    "# Checking for  Statistics\n",
    "dfd= df.describe()"
   ]
  },
  {
   "cell_type": "code",
   "execution_count": 8,
   "id": "ca4849a9",
   "metadata": {},
   "outputs": [
    {
     "name": "stderr",
     "output_type": "stream",
     "text": [
      "C:\\Users\\BhuwanDhakal\\AppData\\Local\\Temp\\ipykernel_14944\\1239617456.py:1: FutureWarning: Treating datetime data as categorical rather than numeric in `.describe` is deprecated and will be removed in a future version of pandas. Specify `datetime_is_numeric=True` to silence this warning and adopt the future behavior now.\n",
      "  dfdd =df.describe(include='all')\n"
     ]
    }
   ],
   "source": [
    "dfdd =df.describe(include='all')"
   ]
  },
  {
   "cell_type": "code",
   "execution_count": 9,
   "id": "3334dfd2",
   "metadata": {},
   "outputs": [],
   "source": [
    "dfdd.to_clipboard()"
   ]
  },
  {
   "cell_type": "code",
   "execution_count": 10,
   "id": "6e9741a8",
   "metadata": {},
   "outputs": [
    {
     "data": {
      "text/plain": [
       "(52955, 21)"
      ]
     },
     "execution_count": 10,
     "metadata": {},
     "output_type": "execute_result"
    }
   ],
   "source": [
    "# Checking the number of rows and columns before clean up\n",
    "df.shape"
   ]
  },
  {
   "cell_type": "markdown",
   "id": "8452067b",
   "metadata": {},
   "source": [
    "# Wrangling datas"
   ]
  },
  {
   "cell_type": "markdown",
   "id": "92eeb951",
   "metadata": {},
   "source": [
    "## Renaming and Dropping columns"
   ]
  },
  {
   "cell_type": "code",
   "execution_count": 11,
   "id": "d7caf5f9",
   "metadata": {},
   "outputs": [],
   "source": [
    "# Dropping Column Index\n",
    "df1 = df.drop(columns = 'Unnamed: 0')"
   ]
  },
  {
   "cell_type": "code",
   "execution_count": 12,
   "id": "516fdedf",
   "metadata": {},
   "outputs": [],
   "source": [
    "# Renaming column Product_SKU to Product_ID\n",
    "\n",
    "df1.rename(columns={'Product_SKU' : 'Product_ID'}, inplace = True)"
   ]
  },
  {
   "cell_type": "code",
   "execution_count": 13,
   "id": "9fdfd16a",
   "metadata": {},
   "outputs": [],
   "source": [
    "# Renaming column GST to TAX\n",
    "\n",
    "df1.rename(columns={'GST' : 'TAX'}, inplace = True)"
   ]
  },
  {
   "cell_type": "code",
   "execution_count": 14,
   "id": "bf7cce8f",
   "metadata": {},
   "outputs": [
    {
     "data": {
      "text/plain": [
       "CustomerID              31\n",
       "Gender                  31\n",
       "Location                31\n",
       "Tenure_Months           31\n",
       "Transaction_ID          31\n",
       "Transaction_Date        31\n",
       "Product_ID              31\n",
       "Product_Description     31\n",
       "Product_Category         0\n",
       "Quantity                31\n",
       "Avg_Price               31\n",
       "Delivery_Charges        31\n",
       "Coupon_Status           31\n",
       "TAX                     31\n",
       "Date                    31\n",
       "Offline_Spend           31\n",
       "Online_Spend            31\n",
       "Month                    0\n",
       "Coupon_Code            400\n",
       "Discount_pct           400\n",
       "dtype: int64"
      ]
     },
     "execution_count": 14,
     "metadata": {},
     "output_type": "execute_result"
    }
   ],
   "source": [
    "# Finding the missing values of the Dataframe\n",
    "df1.isnull().sum()"
   ]
  },
  {
   "cell_type": "markdown",
   "id": "8b2d8e99",
   "metadata": {},
   "source": [
    "#### The output shows there are missing values in 31 rows of multiple columns. so dropping those all 31 rows and imputing Coupon code equals 0 and Discount-pct equals NA.\n"
   ]
  },
  {
   "cell_type": "code",
   "execution_count": 15,
   "id": "86f7fb8d",
   "metadata": {},
   "outputs": [
    {
     "name": "stdout",
     "output_type": "stream",
     "text": [
      "<class 'pandas.core.frame.DataFrame'>\n",
      "RangeIndex: 52955 entries, 0 to 52954\n",
      "Data columns (total 20 columns):\n",
      " #   Column               Non-Null Count  Dtype         \n",
      "---  ------               --------------  -----         \n",
      " 0   CustomerID           52924 non-null  float64       \n",
      " 1   Gender               52924 non-null  object        \n",
      " 2   Location             52924 non-null  object        \n",
      " 3   Tenure_Months        52924 non-null  float64       \n",
      " 4   Transaction_ID       52924 non-null  float64       \n",
      " 5   Transaction_Date     52924 non-null  datetime64[ns]\n",
      " 6   Product_ID           52924 non-null  object        \n",
      " 7   Product_Description  52924 non-null  object        \n",
      " 8   Product_Category     52955 non-null  object        \n",
      " 9   Quantity             52924 non-null  float64       \n",
      " 10  Avg_Price            52924 non-null  float64       \n",
      " 11  Delivery_Charges     52924 non-null  float64       \n",
      " 12  Coupon_Status        52924 non-null  object        \n",
      " 13  TAX                  52924 non-null  float64       \n",
      " 14  Date                 52924 non-null  object        \n",
      " 15  Offline_Spend        52924 non-null  float64       \n",
      " 16  Online_Spend         52924 non-null  float64       \n",
      " 17  Month                52955 non-null  int64         \n",
      " 18  Coupon_Code          52555 non-null  object        \n",
      " 19  Discount_pct         52555 non-null  float64       \n",
      "dtypes: datetime64[ns](1), float64(10), int64(1), object(8)\n",
      "memory usage: 8.1+ MB\n"
     ]
    }
   ],
   "source": [
    "df1.info()"
   ]
  },
  {
   "cell_type": "code",
   "execution_count": 16,
   "id": "ee4c6097",
   "metadata": {},
   "outputs": [],
   "source": [
    " df1['Coupon_Code'].fillna(\"NA\", inplace=True)"
   ]
  },
  {
   "cell_type": "code",
   "execution_count": 17,
   "id": "8bc25f23",
   "metadata": {},
   "outputs": [],
   "source": [
    "df1['Discount_pct'].fillna(0, inplace=True)"
   ]
  },
  {
   "cell_type": "code",
   "execution_count": 18,
   "id": "25a6bc5a",
   "metadata": {},
   "outputs": [
    {
     "data": {
      "text/plain": [
       "CustomerID             31\n",
       "Gender                 31\n",
       "Location               31\n",
       "Tenure_Months          31\n",
       "Transaction_ID         31\n",
       "Transaction_Date       31\n",
       "Product_ID             31\n",
       "Product_Description    31\n",
       "Product_Category        0\n",
       "Quantity               31\n",
       "Avg_Price              31\n",
       "Delivery_Charges       31\n",
       "Coupon_Status          31\n",
       "TAX                    31\n",
       "Date                   31\n",
       "Offline_Spend          31\n",
       "Online_Spend           31\n",
       "Month                   0\n",
       "Coupon_Code             0\n",
       "Discount_pct            0\n",
       "dtype: int64"
      ]
     },
     "execution_count": 18,
     "metadata": {},
     "output_type": "execute_result"
    }
   ],
   "source": [
    "df1.isnull().sum()"
   ]
  },
  {
   "cell_type": "code",
   "execution_count": 19,
   "id": "f3a83324",
   "metadata": {},
   "outputs": [],
   "source": [
    "df1 = df1.dropna(axis=0) "
   ]
  },
  {
   "cell_type": "code",
   "execution_count": 20,
   "id": "9870861c",
   "metadata": {},
   "outputs": [
    {
     "data": {
      "text/plain": [
       "(52924, 20)"
      ]
     },
     "execution_count": 20,
     "metadata": {},
     "output_type": "execute_result"
    }
   ],
   "source": [
    "df1.shape"
   ]
  },
  {
   "cell_type": "code",
   "execution_count": 21,
   "id": "05a7ed70",
   "metadata": {},
   "outputs": [
    {
     "data": {
      "text/plain": [
       "CustomerID                    float64\n",
       "Gender                         object\n",
       "Location                       object\n",
       "Tenure_Months                 float64\n",
       "Transaction_ID                float64\n",
       "Transaction_Date       datetime64[ns]\n",
       "Product_ID                     object\n",
       "Product_Description            object\n",
       "Product_Category               object\n",
       "Quantity                      float64\n",
       "Avg_Price                     float64\n",
       "Delivery_Charges              float64\n",
       "Coupon_Status                  object\n",
       "TAX                           float64\n",
       "Date                           object\n",
       "Offline_Spend                 float64\n",
       "Online_Spend                  float64\n",
       "Month                           int64\n",
       "Coupon_Code                    object\n",
       "Discount_pct                  float64\n",
       "dtype: object"
      ]
     },
     "execution_count": 21,
     "metadata": {},
     "output_type": "execute_result"
    }
   ],
   "source": [
    "# Checking the data type of df1\n",
    "df1.dtypes"
   ]
  },
  {
   "cell_type": "code",
   "execution_count": 22,
   "id": "21bec5b4",
   "metadata": {},
   "outputs": [],
   "source": [
    "# Changing data type of CustomerID, Transaction_ID, Month in df1\n",
    "df1[['CustomerID', 'Transaction_ID', 'Month']] = df1[['CustomerID', 'Transaction_ID', 'Month']].astype(str)"
   ]
  },
  {
   "cell_type": "code",
   "execution_count": 23,
   "id": "3542872b",
   "metadata": {},
   "outputs": [],
   "source": [
    "# Changing data type of Date in df1\n",
    "\n",
    "df1['Date'] = pd.to_datetime(df['Date'])"
   ]
  },
  {
   "cell_type": "code",
   "execution_count": 24,
   "id": "8c06fea0",
   "metadata": {},
   "outputs": [
    {
     "name": "stdout",
     "output_type": "stream",
     "text": [
      "No columns with mixed datatype\n"
     ]
    }
   ],
   "source": [
    "# Check for the mixed data types\n",
    "for col in df1.columns.tolist():\n",
    "  weird = (df1[[col]].applymap(type) != df1[[col]].iloc[0].apply(type)).any(axis = 1)\n",
    "if len (df1[weird]) > 0:\n",
    "    print (\"Column \" + col + \" has mixed data type\")\n",
    "else:\n",
    "    print (\"No columns with mixed datatype\")"
   ]
  },
  {
   "cell_type": "markdown",
   "id": "3f4d9123",
   "metadata": {},
   "source": [
    "## Finding Duplicates¶"
   ]
  },
  {
   "cell_type": "code",
   "execution_count": 25,
   "id": "f2d3cfca",
   "metadata": {},
   "outputs": [],
   "source": [
    "df1_dups = df1[df1.duplicated()]"
   ]
  },
  {
   "cell_type": "code",
   "execution_count": 26,
   "id": "3885f0f9",
   "metadata": {},
   "outputs": [
    {
     "data": {
      "text/html": [
       "<div>\n",
       "<style scoped>\n",
       "    .dataframe tbody tr th:only-of-type {\n",
       "        vertical-align: middle;\n",
       "    }\n",
       "\n",
       "    .dataframe tbody tr th {\n",
       "        vertical-align: top;\n",
       "    }\n",
       "\n",
       "    .dataframe thead th {\n",
       "        text-align: right;\n",
       "    }\n",
       "</style>\n",
       "<table border=\"1\" class=\"dataframe\">\n",
       "  <thead>\n",
       "    <tr style=\"text-align: right;\">\n",
       "      <th></th>\n",
       "      <th>CustomerID</th>\n",
       "      <th>Gender</th>\n",
       "      <th>Location</th>\n",
       "      <th>Tenure_Months</th>\n",
       "      <th>Transaction_ID</th>\n",
       "      <th>Transaction_Date</th>\n",
       "      <th>Product_ID</th>\n",
       "      <th>Product_Description</th>\n",
       "      <th>Product_Category</th>\n",
       "      <th>Quantity</th>\n",
       "      <th>Avg_Price</th>\n",
       "      <th>Delivery_Charges</th>\n",
       "      <th>Coupon_Status</th>\n",
       "      <th>TAX</th>\n",
       "      <th>Date</th>\n",
       "      <th>Offline_Spend</th>\n",
       "      <th>Online_Spend</th>\n",
       "      <th>Month</th>\n",
       "      <th>Coupon_Code</th>\n",
       "      <th>Discount_pct</th>\n",
       "    </tr>\n",
       "  </thead>\n",
       "  <tbody>\n",
       "  </tbody>\n",
       "</table>\n",
       "</div>"
      ],
      "text/plain": [
       "Empty DataFrame\n",
       "Columns: [CustomerID, Gender, Location, Tenure_Months, Transaction_ID, Transaction_Date, Product_ID, Product_Description, Product_Category, Quantity, Avg_Price, Delivery_Charges, Coupon_Status, TAX, Date, Offline_Spend, Online_Spend, Month, Coupon_Code, Discount_pct]\n",
       "Index: []"
      ]
     },
     "execution_count": 26,
     "metadata": {},
     "output_type": "execute_result"
    }
   ],
   "source": [
    "df1_dups"
   ]
  },
  {
   "cell_type": "markdown",
   "id": "608e3bb3",
   "metadata": {},
   "source": [
    "#### There is no Duplicates values in Dataframe"
   ]
  },
  {
   "cell_type": "code",
   "execution_count": 27,
   "id": "f60ead18",
   "metadata": {},
   "outputs": [],
   "source": [
    "# Export dataframe to Cleaned_ Data\n",
    "df1.to_excel(os.path.join(path, 'Data','Prepared Data', 'Cleaned_Data.xlsx'), index = False)"
   ]
  },
  {
   "cell_type": "code",
   "execution_count": 28,
   "id": "18752d94",
   "metadata": {},
   "outputs": [
    {
     "name": "stdout",
     "output_type": "stream",
     "text": [
      "<class 'pandas.core.frame.DataFrame'>\n",
      "Int64Index: 52924 entries, 0 to 52923\n",
      "Data columns (total 20 columns):\n",
      " #   Column               Non-Null Count  Dtype         \n",
      "---  ------               --------------  -----         \n",
      " 0   CustomerID           52924 non-null  object        \n",
      " 1   Gender               52924 non-null  object        \n",
      " 2   Location             52924 non-null  object        \n",
      " 3   Tenure_Months        52924 non-null  float64       \n",
      " 4   Transaction_ID       52924 non-null  object        \n",
      " 5   Transaction_Date     52924 non-null  datetime64[ns]\n",
      " 6   Product_ID           52924 non-null  object        \n",
      " 7   Product_Description  52924 non-null  object        \n",
      " 8   Product_Category     52924 non-null  object        \n",
      " 9   Quantity             52924 non-null  float64       \n",
      " 10  Avg_Price            52924 non-null  float64       \n",
      " 11  Delivery_Charges     52924 non-null  float64       \n",
      " 12  Coupon_Status        52924 non-null  object        \n",
      " 13  TAX                  52924 non-null  float64       \n",
      " 14  Date                 52924 non-null  datetime64[ns]\n",
      " 15  Offline_Spend        52924 non-null  float64       \n",
      " 16  Online_Spend         52924 non-null  float64       \n",
      " 17  Month                52924 non-null  object        \n",
      " 18  Coupon_Code          52924 non-null  object        \n",
      " 19  Discount_pct         52924 non-null  float64       \n",
      "dtypes: datetime64[ns](2), float64(8), object(10)\n",
      "memory usage: 8.5+ MB\n"
     ]
    }
   ],
   "source": [
    "df1.info()"
   ]
  },
  {
   "cell_type": "code",
   "execution_count": 29,
   "id": "002f7237",
   "metadata": {},
   "outputs": [
    {
     "name": "stderr",
     "output_type": "stream",
     "text": [
      "C:\\Users\\BhuwanDhakal\\AppData\\Local\\Temp\\ipykernel_14944\\273037843.py:1: FutureWarning: Treating datetime data as categorical rather than numeric in `.describe` is deprecated and will be removed in a future version of pandas. Specify `datetime_is_numeric=True` to silence this warning and adopt the future behavior now.\n",
      "  df3 = df1.describe(include=\"all\")\n",
      "C:\\Users\\BhuwanDhakal\\AppData\\Local\\Temp\\ipykernel_14944\\273037843.py:1: FutureWarning: Treating datetime data as categorical rather than numeric in `.describe` is deprecated and will be removed in a future version of pandas. Specify `datetime_is_numeric=True` to silence this warning and adopt the future behavior now.\n",
      "  df3 = df1.describe(include=\"all\")\n"
     ]
    }
   ],
   "source": [
    "df3 = df1.describe(include=\"all\")"
   ]
  },
  {
   "cell_type": "code",
   "execution_count": 30,
   "id": "cf3de9c6",
   "metadata": {},
   "outputs": [],
   "source": [
    "df3.to_clipboard()"
   ]
  },
  {
   "cell_type": "code",
   "execution_count": null,
   "id": "3a8cf0ca",
   "metadata": {},
   "outputs": [],
   "source": []
  }
 ],
 "metadata": {
  "kernelspec": {
   "display_name": "Python 3 (ipykernel)",
   "language": "python",
   "name": "python3"
  },
  "language_info": {
   "codemirror_mode": {
    "name": "ipython",
    "version": 3
   },
   "file_extension": ".py",
   "mimetype": "text/x-python",
   "name": "python",
   "nbconvert_exporter": "python",
   "pygments_lexer": "ipython3",
   "version": "3.9.13"
  }
 },
 "nbformat": 4,
 "nbformat_minor": 5
}
